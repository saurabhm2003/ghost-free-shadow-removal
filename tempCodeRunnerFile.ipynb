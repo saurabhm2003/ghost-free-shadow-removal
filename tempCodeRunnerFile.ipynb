import matplotlib.pyplot as plt
plt.rcParams["figure.figsize"] = (24,6)

imgs = [os.path.join('Samples',x) for x in os.listdir('Samples') if '.jpg' in x or '.png' in x]

for img_path in imgs:

    plt.figure()
    plt.axis('off')
    
    iminput=cv2.imread(img_path,-1)

    imoutput = sess.run(shadow_free_image,feed_dict={input:np.expand_dims(iminput/255.,axis=0)})

    imoutput = np.uint8(np.squeeze(np.minimum(np.maximum(imoutput[0],0.0),1.0))*255.0)

    imcompare = np.concatenate([iminput,imoutput],axis=1)

    # bgr->rgb
    plt.imshow(imcompare[...,::-1])
    plt.show()

